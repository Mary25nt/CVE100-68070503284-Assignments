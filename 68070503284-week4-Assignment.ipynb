{
 "cells": [
  {
   "cell_type": "code",
   "execution_count": 20,
   "id": "9cc0c45e",
   "metadata": {},
   "outputs": [
    {
     "name": "stdout",
     "output_type": "stream",
     "text": [
      "0 is even\n",
      "1 is odd\n",
      "2 is even\n",
      "3 is odd\n",
      "4 is even\n",
      "5 is odd\n"
     ]
    }
   ],
   "source": [
    "\n",
    "for n in range(0,6):\n",
    "    if n%2 ==0:\n",
    "        print (n, \"is even\")\n",
    "    else:\n",
    "        print(n,\"is odd\")"
   ]
  },
  {
   "cell_type": "code",
   "execution_count": 25,
   "id": "a0066aae",
   "metadata": {},
   "outputs": [
    {
     "name": "stdout",
     "output_type": "stream",
     "text": [
      "The result is large\n",
      "The result is large\n",
      "The result is large\n",
      "The result is large\n",
      "The result is large\n",
      "The result is large\n",
      "The result is large\n",
      "The result is large\n",
      "The result is large\n",
      "The result is large\n"
     ]
    }
   ],
   "source": [
    "n = 100\n",
    "for i in range(1,11):\n",
    "    if n/i >5:\n",
    "        print(\"The result is large\")\n",
    "    elif n/i ==6:\n",
    "        continue\n",
    "    else:\n",
    "        print(\"quotient\",n/i)\n",
    "\n"
   ]
  },
  {
   "cell_type": "code",
   "execution_count": 33,
   "id": "652471b9",
   "metadata": {},
   "outputs": [
    {
     "name": "stdout",
     "output_type": "stream",
     "text": [
      "Login successful\n"
     ]
    }
   ],
   "source": [
    "credentials={'user1':'abc123','admin':'adminpass','guest':'guest123'}\n",
    "username = input(\"Enter Username\")\n",
    "password = input(\"Enter Password\")\n",
    "if username in credentials:\n",
    "   if credentials [username]==password:\n",
    "    print(\"Login successful\")\n",
    "   else:\n",
    "     print(\"Incorrect Password\")\n",
    "else:\n",
    "  print(\"user not found\")"
   ]
  },
  {
   "cell_type": "code",
   "execution_count": 49,
   "id": "ae2293e5",
   "metadata": {},
   "outputs": [
    {
     "name": "stdout",
     "output_type": "stream",
     "text": [
      "* \n",
      "* * \n",
      "* * * \n",
      "* * * * \n",
      "* * * * * \n"
     ]
    }
   ],
   "source": [
    "stars = 5\n",
    "rows = 5\n",
    "for i in range(1,rows+1):\n",
    "    for j in range(i):\n",
    "         print(\"*\",end=\" \")\n",
    "    print()\n",
    "\n",
    "\n"
   ]
  },
  {
   "cell_type": "code",
   "execution_count": 13,
   "id": "dc9e54c7",
   "metadata": {},
   "outputs": [
    {
     "name": "stdout",
     "output_type": "stream",
     "text": [
      "add more\n",
      "Limit reached.You cannot buy anymore\n"
     ]
    }
   ],
   "source": [
    "total_bill = 0\n",
    "while total_bill<1000:   \n",
    "    price = float(input(\"Enter price of the item\"))\n",
    "    total_bill=total_bill+price\n",
    "    if total_bill<1000:\n",
    "        print(\"add more\")\n",
    "print(\"Limit reached.You cannot buy anymore\")\n",
    "\n",
    "\n"
   ]
  }
 ],
 "metadata": {
  "kernelspec": {
   "display_name": "Python 3",
   "language": "python",
   "name": "python3"
  },
  "language_info": {
   "codemirror_mode": {
    "name": "ipython",
    "version": 3
   },
   "file_extension": ".py",
   "mimetype": "text/x-python",
   "name": "python",
   "nbconvert_exporter": "python",
   "pygments_lexer": "ipython3",
   "version": "3.13.5"
  }
 },
 "nbformat": 4,
 "nbformat_minor": 5
}
