{
 "cells": [
  {
   "cell_type": "code",
   "execution_count": 27,
   "id": "8e704877",
   "metadata": {},
   "outputs": [],
   "source": [
    "class Car:\n",
    "    def __init__(self,model,rent_per_day,available):\n",
    "        self.model = model\n",
    "        self.rent_per_day = rent_per_day\n",
    "        self.available = available\n",
    "    def rent(self,days):\n",
    "        if self.available:\n",
    "            self.available = False\n",
    "            total_cost=self.rent_per_day*days\n",
    "            print(\"Car rented. total_cost = \",total_cost)\n",
    "        else:\n",
    "            print(\"Car not available\")\n",
    "    def return_car(self):\n",
    "        self.available = True\n",
    "        print(\"Car returned\")\n",
    "    def display(self):\n",
    "        print(\"Model\",self.model)\n",
    "        print(\"rent_per_day\",self.rent_per_day)\n",
    "        print(\"available_status\",self.available)\n",
    "        "
   ]
  },
  {
   "cell_type": "code",
   "execution_count": 35,
   "id": "bb5b79de",
   "metadata": {},
   "outputs": [
    {
     "name": "stdout",
     "output_type": "stream",
     "text": [
      "Car rented. total_cost =  10500\n",
      "Model Mecedes benz\n",
      "rent_per_day 3500\n",
      "available_status False\n",
      "Car returned\n"
     ]
    }
   ],
   "source": [
    "car=Car(\"Mecedes benz\",3500, True)\n",
    "car.rent(3)\n",
    "car.display()\n",
    "car.return_car()"
   ]
  },
  {
   "cell_type": "code",
   "execution_count": 130,
   "id": "5385b05e",
   "metadata": {},
   "outputs": [],
   "source": [
    "class Person:\n",
    "    def __init__(self,name,age):\n",
    "        self.name = name\n",
    "        self.age = age\n",
    "    def display_info(self):\n",
    "        print(\"Name\",self.name)\n",
    "        print(\"Age\",self.age)\n",
    "class Student(Person):\n",
    "    def __init__(self,name,age, marks):\n",
    "        super().__init__(name,age)\n",
    "        self.marks = {}\n",
    "    def add_marks(self,subject,score):\n",
    "        if subject in self.marks:\n",
    "            old_score = self.marks[subject]\n",
    "            self.marks[subject] = score\n",
    "            print(\"Update the score of the subject\")\n",
    "            print(\"Old score =\", old_score)\n",
    "            print(\"New Score =\",score)\n",
    "        else:\n",
    "            self.marks[subject] = score\n",
    "            print(\"Add new subject\")\n",
    "    def display_marks(self):\n",
    "        print(\"Score=\",self.marks)\n",
    "    def average(self):\n",
    "        if self.marks==0:\n",
    "            return 0\n",
    "        else:\n",
    "            average=sum(self.marks.values())/len(self.marks)\n",
    "            print(average)"
   ]
  },
  {
   "cell_type": "code",
   "execution_count": 132,
   "id": "10789733",
   "metadata": {},
   "outputs": [
    {
     "name": "stdout",
     "output_type": "stream",
     "text": [
      "Add new subject\n",
      "Add new subject\n",
      "Score= {'Eng': 88, 'Math': 82}\n",
      "85.0\n"
     ]
    }
   ],
   "source": [
    "student= Student(\"Nana\", 19, {})\n",
    "student.add_marks(\"Eng\",88)\n",
    "student.add_marks(\"Math\",82)\n",
    "student.display_marks()\n",
    "student.average()"
   ]
  }
 ],
 "metadata": {
  "kernelspec": {
   "display_name": "Python 3",
   "language": "python",
   "name": "python3"
  },
  "language_info": {
   "codemirror_mode": {
    "name": "ipython",
    "version": 3
   },
   "file_extension": ".py",
   "mimetype": "text/x-python",
   "name": "python",
   "nbconvert_exporter": "python",
   "pygments_lexer": "ipython3",
   "version": "3.12.6"
  }
 },
 "nbformat": 4,
 "nbformat_minor": 5
}
